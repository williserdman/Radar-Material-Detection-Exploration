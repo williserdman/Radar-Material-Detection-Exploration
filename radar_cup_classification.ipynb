{
  "nbformat": 4,
  "nbformat_minor": 0,
  "metadata": {
    "colab": {
      "provenance": [],
      "authorship_tag": "ABX9TyMAfqkrym1LxPdtGXaWm8Vx",
      "include_colab_link": true
    },
    "kernelspec": {
      "name": "python3",
      "display_name": "Python 3"
    },
    "language_info": {
      "name": "python"
    }
  },
  "cells": [
    {
      "cell_type": "markdown",
      "metadata": {
        "id": "view-in-github",
        "colab_type": "text"
      },
      "source": [
        "<a href=\"https://colab.research.google.com/github/williserdman/Radar-Material-Detection-Exploration/blob/main/radar_cup_classification.ipynb\" target=\"_parent\"><img src=\"https://colab.research.google.com/assets/colab-badge.svg\" alt=\"Open In Colab\"/></a>"
      ]
    },
    {
      "cell_type": "code",
      "execution_count": 1,
      "metadata": {
        "id": "i4-vSquI7-l5"
      },
      "outputs": [],
      "source": [
        "import numpy as np\n",
        "import h5py"
      ]
    },
    {
      "cell_type": "code",
      "source": [
        "%pip install acconeer-exptool"
      ],
      "metadata": {
        "colab": {
          "base_uri": "https://localhost:8080/"
        },
        "id": "cWlhMviV-aMO",
        "outputId": "45d3c081-0417-45a0-c2c8-d6ce5777dca3"
      },
      "execution_count": 44,
      "outputs": [
        {
          "output_type": "stream",
          "name": "stdout",
          "text": [
            "Requirement already satisfied: acconeer-exptool in /usr/local/lib/python3.10/dist-packages (7.11.1)\n",
            "Requirement already satisfied: attributes-doc==0.3.0 in /usr/local/lib/python3.10/dist-packages (from acconeer-exptool) (0.3.0)\n",
            "Requirement already satisfied: attrs>=22.1.0 in /usr/local/lib/python3.10/dist-packages (from acconeer-exptool) (23.2.0)\n",
            "Requirement already satisfied: cbor2 in /usr/local/lib/python3.10/dist-packages (from acconeer-exptool) (5.6.4)\n",
            "Requirement already satisfied: exceptiongroup==1.1.1 in /usr/local/lib/python3.10/dist-packages (from acconeer-exptool) (1.1.1)\n",
            "Requirement already satisfied: h5py<4,>=3.8 in /usr/local/lib/python3.10/dist-packages (from acconeer-exptool) (3.9.0)\n",
            "Requirement already satisfied: numpy<2,>=1.20 in /usr/local/lib/python3.10/dist-packages (from acconeer-exptool) (1.25.2)\n",
            "Requirement already satisfied: packaging in /usr/local/lib/python3.10/dist-packages (from acconeer-exptool) (24.1)\n",
            "Requirement already satisfied: pandas>=1.3.5 in /usr/local/lib/python3.10/dist-packages (from acconeer-exptool) (2.0.3)\n",
            "Requirement already satisfied: pyserial>=3.5 in /usr/local/lib/python3.10/dist-packages (from acconeer-exptool) (3.5)\n",
            "Requirement already satisfied: pyusb>=1.2.1 in /usr/local/lib/python3.10/dist-packages (from acconeer-exptool) (1.2.1)\n",
            "Requirement already satisfied: pyyaml in /usr/local/lib/python3.10/dist-packages (from acconeer-exptool) (6.0.1)\n",
            "Requirement already satisfied: requests<3,>=2.0 in /usr/local/lib/python3.10/dist-packages (from acconeer-exptool) (2.31.0)\n",
            "Requirement already satisfied: result==0.16.1 in /usr/local/lib/python3.10/dist-packages (from acconeer-exptool) (0.16.1)\n",
            "Requirement already satisfied: textual==0.1.18 in /usr/local/lib/python3.10/dist-packages (from acconeer-exptool) (0.1.18)\n",
            "Requirement already satisfied: typing-extensions<5,>=4 in /usr/local/lib/python3.10/dist-packages (from acconeer-exptool) (4.12.2)\n",
            "Requirement already satisfied: xlsxwriter>=3.1.9 in /usr/local/lib/python3.10/dist-packages (from acconeer-exptool) (3.2.0)\n",
            "Requirement already satisfied: rich<13.0.0,>=12.3.0 in /usr/local/lib/python3.10/dist-packages (from textual==0.1.18->acconeer-exptool) (12.6.0)\n",
            "Requirement already satisfied: python-dateutil>=2.8.2 in /usr/local/lib/python3.10/dist-packages (from pandas>=1.3.5->acconeer-exptool) (2.8.2)\n",
            "Requirement already satisfied: pytz>=2020.1 in /usr/local/lib/python3.10/dist-packages (from pandas>=1.3.5->acconeer-exptool) (2023.4)\n",
            "Requirement already satisfied: tzdata>=2022.1 in /usr/local/lib/python3.10/dist-packages (from pandas>=1.3.5->acconeer-exptool) (2024.1)\n",
            "Requirement already satisfied: charset-normalizer<4,>=2 in /usr/local/lib/python3.10/dist-packages (from requests<3,>=2.0->acconeer-exptool) (3.3.2)\n",
            "Requirement already satisfied: idna<4,>=2.5 in /usr/local/lib/python3.10/dist-packages (from requests<3,>=2.0->acconeer-exptool) (3.7)\n",
            "Requirement already satisfied: urllib3<3,>=1.21.1 in /usr/local/lib/python3.10/dist-packages (from requests<3,>=2.0->acconeer-exptool) (2.0.7)\n",
            "Requirement already satisfied: certifi>=2017.4.17 in /usr/local/lib/python3.10/dist-packages (from requests<3,>=2.0->acconeer-exptool) (2024.6.2)\n",
            "Requirement already satisfied: six>=1.5 in /usr/local/lib/python3.10/dist-packages (from python-dateutil>=2.8.2->pandas>=1.3.5->acconeer-exptool) (1.16.0)\n",
            "Requirement already satisfied: commonmark<0.10.0,>=0.9.0 in /usr/local/lib/python3.10/dist-packages (from rich<13.0.0,>=12.3.0->textual==0.1.18->acconeer-exptool) (0.9.1)\n",
            "Requirement already satisfied: pygments<3.0.0,>=2.6.0 in /usr/local/lib/python3.10/dist-packages (from rich<13.0.0,>=12.3.0->textual==0.1.18->acconeer-exptool) (2.16.1)\n"
          ]
        }
      ]
    },
    {
      "cell_type": "code",
      "source": [
        "from acconeer.exptool import a121\n",
        "record = a121.load_record(\"distances/glass.h5\")\n",
        "record.extended_stacked_results"
      ],
      "metadata": {
        "colab": {
          "base_uri": "https://localhost:8080/"
        },
        "id": "o4tjkDouKNt5",
        "outputId": "5033b071-e3b0-483f-8d26-288526ffc4b8"
      },
      "execution_count": 59,
      "outputs": [
        {
          "output_type": "execute_result",
          "data": {
            "text/plain": [
              "[{1: StackedResults(data_saturated=array([False, False, False, False, False, False, False, False, False,\n",
              "         False, False, False, False, False, False, False, False, False,\n",
              "         False, False, False, False, False, False, False, False, False,\n",
              "         False, False, False, False, False, False, False, False, False,\n",
              "         False, False, False, False, False, False, False, False, False,\n",
              "         False, False, False, False, False, False, False, False, False,\n",
              "         False, False, False, False, False, False, False, False, False,\n",
              "         False, False, False, False, False, False, False, False, False,\n",
              "         False, False, False, False, False, False, False, False, False,\n",
              "         False, False, False, False, False, False, False, False, False,\n",
              "         False, False, False, False, False, False, False, False, False,\n",
              "         False, False, False, False, False, False, False, False, False,\n",
              "         False, False, False, False, False, False, False, False, False,\n",
              "         False, False, False, False, False, False, False, False, False,\n",
              "         False, False, False, False, False, False, False, False, False,\n",
              "         False, False, False, False, False, False, False, False, False,\n",
              "         False, False, False, False, False, False, False, False, False]), frame_delayed=array([False, False, False, False, False, False, False, False, False,\n",
              "         False, False, False, False, False, False, False, False, False,\n",
              "         False, False, False, False, False, False, False, False, False,\n",
              "         False, False, False, False, False, False, False, False, False,\n",
              "         False, False, False, False, False, False, False, False, False,\n",
              "         False, False, False, False, False, False, False, False, False,\n",
              "         False, False, False, False, False, False, False, False, False,\n",
              "         False, False, False, False, False, False, False, False, False,\n",
              "         False, False, False, False, False, False, False, False, False,\n",
              "         False, False, False, False, False, False, False, False, False,\n",
              "         False, False, False, False, False, False, False, False, False,\n",
              "         False, False, False, False, False, False, False, False, False,\n",
              "         False, False, False, False, False, False, False, False, False,\n",
              "         False, False, False, False, False, False, False, False, False,\n",
              "         False, False, False, False, False, False, False, False, False,\n",
              "         False, False, False, False, False, False, False, False, False,\n",
              "         False, False, False, False, False, False, False, False, False]), calibration_needed=array([False, False, False, False, False, False, False, False, False,\n",
              "         False, False, False, False, False, False, False, False, False,\n",
              "         False, False, False, False, False, False, False, False, False,\n",
              "         False, False, False, False, False, False, False, False, False,\n",
              "         False, False, False, False, False, False, False, False, False,\n",
              "         False, False, False, False, False, False, False, False, False,\n",
              "         False, False, False, False, False, False, False, False, False,\n",
              "         False, False, False, False, False, False, False, False, False,\n",
              "         False, False, False, False, False, False, False, False, False,\n",
              "         False, False, False, False, False, False, False, False, False,\n",
              "         False, False, False, False, False, False, False, False, False,\n",
              "         False, False, False, False, False, False, False, False, False,\n",
              "         False, False, False, False, False, False, False, False, False,\n",
              "         False, False, False, False, False, False, False, False, False,\n",
              "         False, False, False, False, False, False, False, False, False,\n",
              "         False, False, False, False, False, False, False, False, False,\n",
              "         False, False, False, False, False, False, False, False, False]), temperature=array([20, 19, 20, 20, 20, 20, 20, 19, 20, 20, 20, 19, 19, 20, 20, 20, 20,\n",
              "         20, 19, 19, 19, 20, 19, 20, 20, 20, 20, 20, 20, 20, 19, 20, 20, 19,\n",
              "         20, 20, 20, 20, 20, 20, 20, 20, 20, 20, 20, 20, 19, 20, 20, 20, 20,\n",
              "         20, 19, 20, 20, 20, 20, 20, 20, 20, 20, 20, 20, 19, 20, 20, 20, 20,\n",
              "         20, 20, 20, 20, 20, 20, 19, 20, 20, 20, 20, 20, 20, 20, 20, 19, 20,\n",
              "         20, 20, 20, 20, 19, 20, 20, 20, 20, 20, 20, 20, 19, 20, 20, 20, 20,\n",
              "         20, 20, 20, 20, 20, 20, 20, 20, 20, 20, 20, 20, 20, 20, 20, 20, 20,\n",
              "         20, 20, 20, 20, 20, 20, 20, 20, 20, 20, 20, 20, 20, 20, 20, 20, 20,\n",
              "         20, 20, 20, 20, 20, 20, 20, 20, 20, 20, 20, 20, 20, 20, 20, 20, 20]), _frame=array([[[(-2,  5), (-2,  6), (-5,  8), ..., ( 0,  0), ( 1,  1),\n",
              "           ( 4, -3)]],\n",
              "  \n",
              "         [[(-6,  6), (-4,  6), (-7,  7), ..., ( 0, -3), (-2,  5),\n",
              "           (-1, -2)]],\n",
              "  \n",
              "         [[(-6,  5), (-3,  9), (-6,  3), ..., (-2, -1), ( 0,  0),\n",
              "           (-2,  2)]],\n",
              "  \n",
              "         ...,\n",
              "  \n",
              "         [[(-3,  4), (-3,  5), (-4,  7), ..., (-2, -5), (-1,  0),\n",
              "           (-2, -4)]],\n",
              "  \n",
              "         [[(-3,  6), (-5,  7), (-5, 10), ..., ( 3, -3), ( 1,  0),\n",
              "           (-1, -2)]],\n",
              "  \n",
              "         [[( 2,  8), (-9,  3), (-4,  6), ..., ( 2,  2), ( 0,  0),\n",
              "           (-1,  1)]]], dtype=[('real', '<i2'), ('imag', '<i2')]), tick=array([1030761, 1030826, 1030892, 1030958, 1031024, 1031090, 1031156,\n",
              "         1031222, 1031288, 1031354, 1031420, 1031486, 1031552, 1031618,\n",
              "         1031684, 1031750, 1031816, 1031882, 1031948, 1032014, 1032080,\n",
              "         1032146, 1032212, 1032278, 1032344, 1032410, 1032476, 1032542,\n",
              "         1032608, 1032674, 1032740, 1032806, 1032872, 1032938, 1033004,\n",
              "         1033070, 1033136, 1033202, 1033268, 1033334, 1033400, 1033466,\n",
              "         1033532, 1033598, 1033664, 1033730, 1033796, 1033862, 1033928,\n",
              "         1033994, 1034060, 1034126, 1034192, 1034258, 1034324, 1034390,\n",
              "         1034456, 1034522, 1034588, 1034654, 1034720, 1034786, 1034852,\n",
              "         1034918, 1034984, 1035050, 1035116, 1035182, 1035248, 1035314,\n",
              "         1035380, 1035446, 1035512, 1035578, 1035644, 1035710, 1035776,\n",
              "         1035842, 1035908, 1035974, 1036040, 1036106, 1036172, 1036238,\n",
              "         1036304, 1036370, 1036436, 1036502, 1036568, 1036634, 1036700,\n",
              "         1036766, 1036832, 1036898, 1036964, 1037030, 1037096, 1037162,\n",
              "         1037228, 1037294, 1037360, 1037426, 1037492, 1037558, 1037624,\n",
              "         1037690, 1037756, 1037822, 1037888, 1037954, 1038020, 1038086,\n",
              "         1038152, 1038218, 1038284, 1038350, 1038416, 1038482, 1038548,\n",
              "         1038614, 1038680, 1038746, 1038812, 1038878, 1038944, 1039010,\n",
              "         1039076, 1039142, 1039208, 1039274, 1039340, 1039406, 1039472,\n",
              "         1039538, 1039604, 1039670, 1039736, 1039802, 1039868, 1039934,\n",
              "         1040000, 1040066, 1040132, 1040198, 1040264, 1040330, 1040396,\n",
              "         1040462, 1040528, 1040594, 1040660, 1040726, 1040792]), _context=ResultContext(metadata=Metadata(_frame_data_length=38, _sweep_data_length=38, _subsweep_data_offset=array([0]), _subsweep_data_length=array([38]), _calibration_temperature=20, _tick_period=66, _base_step_length_m=0.00250227400101721, _max_sweep_rate=84.8023452758789, _high_speed_mode=False), ticks_per_second=1000))}]"
            ]
          },
          "metadata": {},
          "execution_count": 59
        }
      ]
    },
    {
      "cell_type": "code",
      "source": [
        "def process_h5(record):\n",
        "  data = []\n",
        "  for elm in record.extended_stacked_results:\n",
        "    dframe = [elm[key].frame for key in elm.keys()]\n",
        "    dframe = np.array(dframe)\n",
        "    #data.append(dframe)\n",
        "  return np.squeeze(abs(dframe))"
      ],
      "metadata": {
        "id": "9oIzrH0bLAZ5"
      },
      "execution_count": 213,
      "outputs": []
    },
    {
      "cell_type": "code",
      "source": [
        "glass_record = a121.load_record(\"distances/glass.h5\")\n",
        "empty_record = a121.load_record(\"distances/empty.h5\")\n",
        "metal_record = a121.load_record(\"distances/metal.h5\")\n",
        "paper_record = a121.load_record(\"distances/paper.h5\")"
      ],
      "metadata": {
        "id": "PwgRGy5kOjzm"
      },
      "execution_count": 214,
      "outputs": []
    },
    {
      "cell_type": "code",
      "source": [
        "process_h5(glass_record)"
      ],
      "metadata": {
        "id": "IF3_RktqbPZ7"
      },
      "execution_count": null,
      "outputs": []
    },
    {
      "cell_type": "code",
      "source": [
        "from scipy.signal import find_peaks\n",
        "def feature_extraction(test_data):\n",
        "  data = []\n",
        "  for i in test_data:\n",
        "    peaks, _ = find_peaks(i)\n",
        "    #print(peaks)\n",
        "    sorted_peaks = peaks[np.argsort(i[peaks])][::-1]\n",
        "    top_two_peaks = sorted_peaks[:2]\n",
        "    #print(\"Indices of the two peaks:\", top_two_peaks)\n",
        "    #print(\"Values of the two peaks:\", i[top_two_peaks])\n",
        "    features = i[top_two_peaks].tolist()\n",
        "    features.append(top_two_peaks[0] / top_two_peaks[1])\n",
        "    data.append(features)\n",
        "  return data, len(data)"
      ],
      "metadata": {
        "id": "LUZqKomiYy3R"
      },
      "execution_count": 221,
      "outputs": []
    },
    {
      "cell_type": "code",
      "source": [
        "feature_extraction(process_h5(glass_record))"
      ],
      "metadata": {
        "colab": {
          "base_uri": "https://localhost:8080/"
        },
        "id": "9m6Zr8K0a6PX",
        "outputId": "6338a15d-a886-4eed-96da-25f130ffcfe1"
      },
      "execution_count": 222,
      "outputs": [
        {
          "output_type": "execute_result",
          "data": {
            "text/plain": [
              "([[96.0052081920559, 28.792360097775934, 0.625],\n",
              "  [93.50935782048768, 24.73863375370596, 0.5833333333333334],\n",
              "  [95.35197952848173, 27.85677655436824, 0.625],\n",
              "  [90.08884503644165, 24.041630560342615, 0.625],\n",
              "  [92.02173656261873, 21.840329667841555, 0.5833333333333334],\n",
              "  [94.36630754670863, 28.23118842698621, 0.56],\n",
              "  [91.00549433962766, 23.259406699226012, 0.6],\n",
              "  [92.61749294814669, 25.298221281347036, 0.5833333333333334],\n",
              "  [99.02019995940223, 25.495097567963924, 0.5833333333333334],\n",
              "  [95.46203433826456, 21.095023109728988, 0.56],\n",
              "  [92.61749294814669, 26.92582403567252, 0.56],\n",
              "  [92.09777413162601, 25.298221281347036, 0.5833333333333334],\n",
              "  [92.9569792968769, 25.059928172283335, 0.56],\n",
              "  [95.524865872714, 26.0, 0.56],\n",
              "  [93.23625904121207, 25.238858928247925, 0.56],\n",
              "  [96.76776322722355, 26.419689627245813, 0.6],\n",
              "  [89.1403387922662, 21.18962010041709, 0.56],\n",
              "  [93.08598175880189, 23.259406699226012, 0.6],\n",
              "  [92.63368717696603, 23.769728648009426, 0.56],\n",
              "  [91.78235124467014, 26.1725046566048, 0.625],\n",
              "  [94.06912352095135, 25.317977802344327, 0.5833333333333334],\n",
              "  [94.79451460923254, 28.635642126552703, 0.56],\n",
              "  [93.43446901438462, 27.730849247724095, 0.56],\n",
              "  [100.68763578513501, 23.021728866442675, 0.5833333333333334],\n",
              "  [93.86160024205851, 24.515301344262525, 0.5833333333333334],\n",
              "  [89.02246907382427, 26.248809496813376, 0.56],\n",
              "  [91.93475947648963, 25.238858928247925, 0.56],\n",
              "  [94.14881836751856, 24.207436873820413, 0.6],\n",
              "  [89.62700485902673, 23.259406699226012, 0.5833333333333334],\n",
              "  [93.43446901438462, 24.08318915758459, 0.56],\n",
              "  [92.7631392310545, 25.317977802344327, 0.5833333333333334],\n",
              "  [93.72299611087985, 26.248809496813376, 0.56],\n",
              "  [92.65527507918802, 25.079872407968903, 0.5833333333333334],\n",
              "  [92.02173656261873, 25.80697580112788, 0.56],\n",
              "  [93.34345183246653, 22.360679774997898, 0.6],\n",
              "  [86.27861844049197, 24.698178070456937, 0.56],\n",
              "  [92.61749294814669, 26.248809496813376, 0.5833333333333334],\n",
              "  [94.17536832951598, 22.825424421026653, 0.56],\n",
              "  [94.04786015641184, 26.570660511172843, 0.5833333333333334],\n",
              "  [95.4829827770373, 25.455844122715714, 0.56],\n",
              "  [92.19544457292886, 25.455844122715714, 0.56],\n",
              "  [92.07062506576133, 23.769728648009423, 0.625],\n",
              "  [95.4829827770373, 27.85677655436824, 0.56],\n",
              "  [90.42676594902639, 25.0, 0.5833333333333334],\n",
              "  [92.91393867445292, 20.248456731316587, 0.625],\n",
              "  [92.63368717696603, 22.472205054244235, 0.56],\n",
              "  [90.55385138137417, 24.16609194718914, 0.5833333333333334],\n",
              "  [94.17536832951598, 23.259406699226012, 0.56],\n",
              "  [93.86160024205851, 21.840329667841555, 0.5833333333333334],\n",
              "  [92.02173656261873, 23.259406699226012, 0.56],\n",
              "  [91.28526715741155, 24.73863375370596, 0.5833333333333334],\n",
              "  [93.72299611087985, 25.298221281347036, 0.5833333333333334],\n",
              "  [90.0, 23.40939982143925, 0.5833333333333334],\n",
              "  [92.39588735436226, 21.470910553583888, 0.6],\n",
              "  [92.0869154657707, 24.73863375370596, 0.5833333333333334],\n",
              "  [92.84934033152847, 24.351591323771842, 0.56],\n",
              "  [94.92101980067429, 26.92582403567252, 0.56],\n",
              "  [89.095454429505, 22.360679774997898, 0.56],\n",
              "  [91.54780172128658, 22.825424421026653, 0.6],\n",
              "  [94.26027795418386, 24.69817807045694, 0.56],\n",
              "  [93.43446901438462, 26.419689627245813, 0.56],\n",
              "  [94.79451460923254, 23.086792761230395, 0.5833333333333334],\n",
              "  [92.54188241007421, 21.095023109728988, 0.6],\n",
              "  [92.02173656261873, 25.942243542145697, 0.56],\n",
              "  [88.81441324469806, 24.16609194718914, 0.56],\n",
              "  [93.98404119849283, 25.317977802344327, 0.625],\n",
              "  [91.93475947648963, 25.298221281347036, 0.5833333333333334],\n",
              "  [92.02173656261873, 21.18962010041709, 0.5833333333333334],\n",
              "  [93.38094023943, 26.92582403567252, 0.56],\n",
              "  [90.97252332435326, 24.331050121192874, 0.5833333333333334],\n",
              "  [92.61749294814669, 22.360679774997898, 0.5833333333333334],\n",
              "  [88.45903006477066, 20.615528128088304, 0.6],\n",
              "  [92.31467922275417, 28.178005607210743, 0.56],\n",
              "  [93.86160024205851, 24.207436873820413, 0.56],\n",
              "  [90.27181176868004, 25.495097567963924, 0.56],\n",
              "  [92.65527507918802, 25.942243542145697, 0.56],\n",
              "  [91.02197536858888, 26.0, 0.6],\n",
              "  [93.0859817588019, 23.08679276123039, 0.5833333333333334],\n",
              "  [95.26804291051643, 25.298221281347036, 0.5833333333333334],\n",
              "  [91.04943712072031, 24.041630560342615, 0.56],\n",
              "  [92.61749294814669, 26.570660511172843, 0.5833333333333334],\n",
              "  [89.94442728707544, 22.360679774997898, 0.625],\n",
              "  [92.63368717696603, 26.627053911388693, 0.56],\n",
              "  [94.33981132056603, 23.021728866442675, 0.5833333333333334],\n",
              "  [94.36630754670864, 27.313000567495326, 0.625],\n",
              "  [93.38094023943002, 23.08679276123039, 0.625],\n",
              "  [89.27485648266257, 23.853720883753127, 0.56],\n",
              "  [95.13148795220225, 21.2602916254693, 0.56],\n",
              "  [88.3911760301898, 21.18962010041709, 0.5833333333333334],\n",
              "  [89.37561188601731, 23.53720459187964, 0.5833333333333334],\n",
              "  [96.33794683301073, 24.16609194718914, 0.6],\n",
              "  [91.04943712072031, 24.331050121192874, 0.5833333333333334],\n",
              "  [90.9065454189081, 23.40939982143925, 0.5833333333333334],\n",
              "  [94.84724561103502, 24.69817807045694, 0.56],\n",
              "  [90.50966799187809, 23.706539182259394, 0.56],\n",
              "  [91.28526715741155, 22.47220505424423, 0.56],\n",
              "  [94.04786015641186, 24.413111231467404, 0.56],\n",
              "  [91.35097153287424, 20.6155281280883, 0.56],\n",
              "  [84.52810183601663, 25.079872407968903, 0.6],\n",
              "  [91.26883367283709, 24.16609194718914, 0.6],\n",
              "  [90.9065454189081, 26.400757564888174, 0.56],\n",
              "  [92.9569792968769, 26.570660511172843, 0.5833333333333334],\n",
              "  [90.0, 26.400757564888174, 0.5833333333333334],\n",
              "  [90.19977827023746, 23.259406699226012, 0.6],\n",
              "  [91.67878707749138, 25.942243542145697, 0.56],\n",
              "  [90.91754506144565, 26.570660511172843, 0.5833333333333334],\n",
              "  [89.88882021697692, 25.495097567963924, 0.56],\n",
              "  [89.02246907382427, 23.194827009486403, 0.5833333333333334],\n",
              "  [97.74456506629922, 25.495097567963924, 0.625],\n",
              "  [94.2019108086455, 25.553864678361276, 0.5833333333333334],\n",
              "  [91.54780172128658, 29.410882339705488, 0.6],\n",
              "  [87.72684879784524, 22.203603311174515, 0.56],\n",
              "  [90.00555538409836, 23.259406699226012, 0.625],\n",
              "  [90.69729874698585, 25.80697580112788, 0.5833333333333334],\n",
              "  [90.0499861188218, 22.47220505424423, 0.625],\n",
              "  [95.63472172804185, 20.6155281280883, 0.625],\n",
              "  [93.47726996441435, 25.495097567963924, 0.56],\n",
              "  [90.9065454189081, 24.041630560342615, 0.5833333333333334],\n",
              "  [87.69264507357501, 22.203603311174515, 0.6],\n",
              "  [93.05912099305473, 21.95449840010015, 0.5833333333333334],\n",
              "  [91.58602513484249, 22.360679774997898, 0.5833333333333334],\n",
              "  [90.52071586106686, 25.059928172283335, 0.56],\n",
              "  [93.60021367496978, 22.80350850198276, 0.56],\n",
              "  [90.78546139112804, 24.16609194718914, 0.5833333333333334],\n",
              "  [90.97252332435326, 21.95449840010015, 0.5833333333333334],\n",
              "  [87.28115489611717, 22.80350850198276, 0.6],\n",
              "  [88.09086218218097, 22.135943621178658, 0.5833333333333334],\n",
              "  [92.09777413162601, 25.079872407968903, 0.5833333333333334],\n",
              "  [89.08984229416954, 25.079872407968903, 0.625],\n",
              "  [94.02127418834526, 24.351591323771842, 0.5833333333333334],\n",
              "  [87.96590248499699, 24.186773244895647, 0.6],\n",
              "  [92.96235797353678, 24.698178070456937, 0.5833333333333334],\n",
              "  [92.64987857520374, 23.40939982143925, 0.5833333333333334],\n",
              "  [92.61749294814669, 24.351591323771842, 0.5833333333333334],\n",
              "  [89.19641248391102, 24.16609194718914, 0.56],\n",
              "  [94.04786015641184, 25.079872407968903, 0.56],\n",
              "  [92.19544457292888, 24.69817807045694, 0.6],\n",
              "  [95.01578816175763, 21.18962010041709, 0.5833333333333334],\n",
              "  [96.21330469326995, 25.0, 0.56],\n",
              "  [92.77930803794561, 21.470910553583888, 0.6],\n",
              "  [93.43446901438462, 23.430749027719962, 0.56],\n",
              "  [94.25497334358542, 23.259406699226012, 0.6],\n",
              "  [94.02127418834527, 22.847319317591726, 0.625],\n",
              "  [90.13878188659973, 25.238858928247925, 0.56],\n",
              "  [93.23625904121207, 26.400757564888174, 0.5833333333333334],\n",
              "  [90.60353193998564, 24.041630560342615, 0.5833333333333334],\n",
              "  [94.04786015641186, 26.248809496813372, 0.56],\n",
              "  [91.93475947648963, 22.360679774997898, 0.56],\n",
              "  [93.50935782048768, 26.570660511172843, 0.5833333333333334],\n",
              "  [93.0859817588019, 23.021728866442675, 0.5833333333333334],\n",
              "  [89.81091247727082, 25.553864678361276, 0.56],\n",
              "  [94.79451460923254, 26.68332812825267, 0.5833333333333334],\n",
              "  [89.62700485902673, 25.298221281347036, 0.5833333333333334]],\n",
              " 153)"
            ]
          },
          "metadata": {},
          "execution_count": 222
        }
      ]
    },
    {
      "cell_type": "code",
      "source": [
        "gd, gl = feature_extraction(process_h5(glass_record))\n",
        "ed, el = feature_extraction(process_h5(empty_record))\n",
        "md, ml = feature_extraction(process_h5(metal_record))\n",
        "pd, pl = feature_extraction(process_h5(paper_record))\n",
        "\n",
        "data = gd + ed + md + pd\n",
        "labels = [\"glass\"] * gl + [\"empty\"] * el + [\"metal\"] * ml + [\"paper\"] * pl"
      ],
      "metadata": {
        "id": "GdHfzP5zb9f2"
      },
      "execution_count": 223,
      "outputs": []
    },
    {
      "cell_type": "code",
      "source": [
        "len(data), len(labels)"
      ],
      "metadata": {
        "colab": {
          "base_uri": "https://localhost:8080/"
        },
        "id": "LhgdjhLvbFYg",
        "outputId": "c7f3d7cf-7924-4f11-ef63-4d4e45f33d2c"
      },
      "execution_count": 230,
      "outputs": [
        {
          "output_type": "execute_result",
          "data": {
            "text/plain": [
              "(487, 487)"
            ]
          },
          "metadata": {},
          "execution_count": 230
        }
      ]
    },
    {
      "cell_type": "code",
      "source": [
        "data = np.array(data)\n",
        "labels = np.array(labels)"
      ],
      "metadata": {
        "id": "NxEcHvTCcl_2"
      },
      "execution_count": 231,
      "outputs": []
    },
    {
      "cell_type": "code",
      "source": [
        "from sklearn.model_selection import train_test_split\n",
        "X_train, X_test, y_train, y_test = train_test_split(data, labels, test_size=0.2, random_state=42)"
      ],
      "metadata": {
        "id": "LjQmsop2cW9w"
      },
      "execution_count": 253,
      "outputs": []
    },
    {
      "cell_type": "code",
      "source": [
        "X_test, y_test"
      ],
      "metadata": {
        "colab": {
          "base_uri": "https://localhost:8080/"
        },
        "id": "0dJ2kDT_c2na",
        "outputId": "7e5694b2-5368-427f-a66d-614bfdb04e7a"
      },
      "execution_count": 249,
      "outputs": [
        {
          "output_type": "execute_result",
          "data": {
            "text/plain": [
              "(array([[9.23146792e+01, 2.81780056e+01, 5.60000000e-01],\n",
              "        [3.32132504e+02, 1.00000000e+01, 7.00000000e+00],\n",
              "        [9.70824392e+01, 3.15753068e+01, 6.81818182e-01],\n",
              "        [9.10494371e+01, 2.40416306e+01, 5.60000000e-01],\n",
              "        [1.02649890e+02, 3.51710108e+01, 7.14285714e-01],\n",
              "        [1.06404887e+02, 3.06757233e+01, 6.81818182e-01],\n",
              "        [1.28062485e+01, 7.21110255e+00, 5.00000000e-01],\n",
              "        [9.20217366e+01, 2.59422435e+01, 5.60000000e-01],\n",
              "        [9.43663075e+01, 2.73130006e+01, 6.25000000e-01],\n",
              "        [3.41774780e+02, 8.60232527e+00, 2.80000000e+00],\n",
              "        [9.54620343e+01, 2.10950231e+01, 5.60000000e-01],\n",
              "        [9.33809402e+01, 2.69258240e+01, 5.60000000e-01],\n",
              "        [1.01138519e+02, 3.56931366e+01, 7.14285714e-01],\n",
              "        [9.68297475e+01, 3.25576412e+01, 6.81818182e-01],\n",
              "        [3.31882509e+02, 9.21954446e+00, 7.00000000e+00],\n",
              "        [1.03966341e+02, 3.31360831e+01, 6.81818182e-01],\n",
              "        [1.01862653e+02, 3.01496269e+01, 7.14285714e-01],\n",
              "        [9.27631392e+01, 2.53179778e+01, 5.83333333e-01],\n",
              "        [1.06301458e+01, 6.32455532e+00, 6.00000000e-01],\n",
              "        [1.02532922e+02, 3.00832179e+01, 6.81818182e-01],\n",
              "        [3.36774405e+02, 8.24621125e+00, 5.00000000e+00],\n",
              "        [1.04403065e+01, 7.28010989e+00, 5.00000000e-01],\n",
              "        [9.48472456e+01, 2.46981781e+01, 5.60000000e-01],\n",
              "        [3.36340601e+02, 1.02956301e+01, 2.80000000e+00],\n",
              "        [9.90202000e+01, 3.08058436e+01, 6.81818182e-01],\n",
              "        [9.21954446e+00, 8.48528137e+00, 2.00000000e-01],\n",
              "        [1.02727796e+02, 3.20156212e+01, 7.14285714e-01],\n",
              "        [9.26336872e+01, 2.66270539e+01, 5.60000000e-01],\n",
              "        [9.52680429e+01, 2.52982213e+01, 5.83333333e-01],\n",
              "        [1.02941731e+02, 3.22800248e+01, 6.81818182e-01],\n",
              "        [1.08166538e+01, 9.00000000e+00, 3.00000000e+00],\n",
              "        [9.70824392e+01, 2.94108823e+01, 6.81818182e-01],\n",
              "        [9.28493403e+01, 2.43515913e+01, 5.60000000e-01],\n",
              "        [9.20217366e+01, 2.58069758e+01, 5.60000000e-01],\n",
              "        [1.00264650e+02, 2.91547595e+01, 6.81818182e-01],\n",
              "        [9.60052082e+01, 2.87923601e+01, 6.25000000e-01],\n",
              "        [9.20977741e+01, 2.52982213e+01, 5.83333333e-01],\n",
              "        [1.02800778e+02, 3.15753068e+01, 6.81818182e-01],\n",
              "        [9.26498786e+01, 2.34093998e+01, 5.83333333e-01],\n",
              "        [9.16787871e+01, 2.59422435e+01, 5.60000000e-01],\n",
              "        [1.01533246e+02, 3.55105618e+01, 6.81818182e-01],\n",
              "        [3.40506975e+02, 8.06225775e+00, 6.08695652e-01],\n",
              "        [1.01178061e+02, 3.40147027e+01, 7.14285714e-01],\n",
              "        [1.01178061e+02, 3.29848450e+01, 6.81818182e-01],\n",
              "        [1.04201727e+02, 3.40587727e+01, 7.14285714e-01],\n",
              "        [9.26336872e+01, 2.37697286e+01, 5.60000000e-01],\n",
              "        [1.01316336e+02, 3.20156212e+01, 6.81818182e-01],\n",
              "        [3.42854196e+02, 1.04403065e+01, 4.66666667e+00],\n",
              "        [9.75807358e+01, 3.04138127e+01, 6.81818182e-01],\n",
              "        [8.92748565e+01, 2.38537209e+01, 5.60000000e-01],\n",
              "        [9.54829828e+01, 2.54558441e+01, 5.60000000e-01],\n",
              "        [9.35093578e+01, 2.65706605e+01, 5.83333333e-01],\n",
              "        [9.09065454e+01, 2.40416306e+01, 5.83333333e-01],\n",
              "        [8.94427191e+00, 8.06225775e+00, 5.00000000e-01],\n",
              "        [9.26174929e+01, 2.23606798e+01, 5.83333333e-01],\n",
              "        [1.20415946e+01, 8.06225775e+00, 2.50000000e-01],\n",
              "        [9.63379468e+01, 2.41660919e+01, 6.00000000e-01],\n",
              "        [8.06225775e+00, 7.21110255e+00, 3.33333333e-01],\n",
              "        [9.89949494e+00, 8.48528137e+00, 2.50000000e-01],\n",
              "        [9.68762097e+01, 3.39558537e+01, 7.14285714e-01],\n",
              "        [1.01044545e+02, 3.17804972e+01, 6.81818182e-01],\n",
              "        [9.10219754e+01, 2.60000000e+01, 6.00000000e-01],\n",
              "        [3.40330722e+02, 8.06225775e+00, 7.00000000e+00],\n",
              "        [1.06301458e+01, 7.21110255e+00, 2.50000000e-01],\n",
              "        [3.31096663e+02, 1.04403065e+01, 7.00000000e+00],\n",
              "        [1.04651804e+02, 3.15753068e+01, 6.81818182e-01],\n",
              "        [8.80908622e+01, 2.21359436e+01, 5.83333333e-01],\n",
              "        [1.01138519e+02, 3.04138127e+01, 6.81818182e-01],\n",
              "        [1.03392456e+02, 2.81602557e+01, 7.14285714e-01],\n",
              "        [9.29569793e+01, 2.65706605e+01, 5.83333333e-01],\n",
              "        [9.97045636e+01, 3.40147027e+01, 7.14285714e-01],\n",
              "        [8.54400375e+00, 7.07106781e+00, 2.00000000e+00],\n",
              "        [9.38616002e+01, 2.42074369e+01, 5.60000000e-01],\n",
              "        [9.30859818e+01, 2.30867928e+01, 5.83333333e-01],\n",
              "        [9.21954446e+00, 9.21954446e+00, 4.00000000e+00],\n",
              "        [9.70000000e+01, 3.20156212e+01, 6.81818182e-01],\n",
              "        [3.38017751e+02, 8.48528137e+00, 7.00000000e+00],\n",
              "        [9.09725233e+01, 2.19544984e+01, 5.83333333e-01],\n",
              "        [3.25000000e+02, 1.01980390e+01, 1.40000000e+01],\n",
              "        [7.81024968e+00, 7.28010989e+00, 3.33333333e-01],\n",
              "        [3.42374064e+02, 1.11803399e+01, 3.50000000e+00],\n",
              "        [3.46099697e+02, 1.01980390e+01, 1.40000000e+01],\n",
              "        [9.43398113e+00, 5.38516481e+00, 1.11111111e-01],\n",
              "        [1.01138519e+02, 3.21403174e+01, 7.14285714e-01],\n",
              "        [9.26552751e+01, 2.59422435e+01, 5.60000000e-01],\n",
              "        [1.02649890e+02, 3.08058436e+01, 6.81818182e-01],\n",
              "        [9.67677632e+01, 2.64196896e+01, 6.00000000e-01],\n",
              "        [3.36590255e+02, 1.20415946e+01, 3.00000000e+00],\n",
              "        [9.97246208e+01, 3.15753068e+01, 7.14285714e-01],\n",
              "        [9.17823512e+01, 2.61725047e+01, 6.25000000e-01],\n",
              "        [3.34819354e+02, 8.48528137e+00, 2.80000000e+00],\n",
              "        [3.38567571e+02, 8.94427191e+00, 7.00000000e+00],\n",
              "        [9.49210198e+01, 2.69258240e+01, 5.60000000e-01],\n",
              "        [1.11803399e+01, 8.54400375e+00, 3.00000000e+00],\n",
              "        [1.20415946e+01, 1.02956301e+01, 2.50000000e-01],\n",
              "        [3.39536449e+02, 8.54400375e+00, 4.66666667e+00],\n",
              "        [1.02004902e+02, 3.50142828e+01, 7.14285714e-01],\n",
              "        [1.04350371e+02, 3.29848450e+01, 7.14285714e-01]]),\n",
              " array(['glass', 'metal', 'paper', 'glass', 'paper', 'paper', 'empty',\n",
              "        'glass', 'glass', 'metal', 'glass', 'glass', 'paper', 'paper',\n",
              "        'metal', 'paper', 'paper', 'glass', 'empty', 'paper', 'metal',\n",
              "        'empty', 'glass', 'metal', 'paper', 'empty', 'paper', 'glass',\n",
              "        'glass', 'paper', 'empty', 'paper', 'glass', 'glass', 'paper',\n",
              "        'glass', 'glass', 'paper', 'glass', 'glass', 'paper', 'metal',\n",
              "        'paper', 'paper', 'paper', 'glass', 'paper', 'metal', 'paper',\n",
              "        'glass', 'glass', 'glass', 'glass', 'empty', 'glass', 'empty',\n",
              "        'glass', 'empty', 'empty', 'paper', 'paper', 'glass', 'metal',\n",
              "        'empty', 'metal', 'paper', 'glass', 'paper', 'paper', 'glass',\n",
              "        'paper', 'empty', 'glass', 'glass', 'empty', 'paper', 'metal',\n",
              "        'glass', 'metal', 'empty', 'metal', 'metal', 'empty', 'paper',\n",
              "        'glass', 'paper', 'glass', 'metal', 'paper', 'glass', 'metal',\n",
              "        'metal', 'glass', 'empty', 'empty', 'metal', 'paper', 'paper'],\n",
              "       dtype='<U5'))"
            ]
          },
          "metadata": {},
          "execution_count": 249
        }
      ]
    },
    {
      "cell_type": "code",
      "source": [
        "from sklearn.ensemble import RandomForestClassifier\n",
        "from sklearn.metrics import accuracy_score\n",
        "from sklearn import tree\n",
        "\n",
        "# Train classifier\n",
        "clf = RandomForestClassifier()\n",
        "clf.fit(X_train, y_train)\n",
        "\n",
        "# Predict and evaluate\n",
        "y_pred = clf.predict(X_test)\n",
        "accuracy = accuracy_score(y_test, y_pred)\n",
        "print(f'Accuracy: {accuracy}')"
      ],
      "metadata": {
        "colab": {
          "base_uri": "https://localhost:8080/"
        },
        "id": "Xf0yyq4LbtQx",
        "outputId": "0aabea26-9219-41fe-e62a-6d59d300e669"
      },
      "execution_count": 254,
      "outputs": [
        {
          "output_type": "stream",
          "name": "stdout",
          "text": [
            "Accuracy: 1.0\n"
          ]
        }
      ]
    },
    {
      "cell_type": "code",
      "source": [
        "clf.predict([[9.23146792e+01, 2.81780056e+01, 5.60000000e-01]])[0]"
      ],
      "metadata": {
        "colab": {
          "base_uri": "https://localhost:8080/",
          "height": 35
        },
        "id": "2aVRy3r_cUVZ",
        "outputId": "66504868-34e1-4e0a-960f-1313749fa9fd"
      },
      "execution_count": 255,
      "outputs": [
        {
          "output_type": "execute_result",
          "data": {
            "text/plain": [
              "'glass'"
            ],
            "application/vnd.google.colaboratory.intrinsic+json": {
              "type": "string"
            }
          },
          "metadata": {},
          "execution_count": 255
        }
      ]
    },
    {
      "cell_type": "code",
      "source": [
        "single_tree = tree.DecisionTreeClassifier()\n",
        "single_tree.fit(X_train, y_train)\n",
        "\n",
        "single_y_pred = single_tree.predict(X_test)\n",
        "single_accuracy = accuracy_score(y_test, single_y_pred)\n",
        "print(f'Accuracy: {single_accuracy}')"
      ],
      "metadata": {
        "colab": {
          "base_uri": "https://localhost:8080/"
        },
        "id": "QwkYfqmwea4g",
        "outputId": "3a483f42-31af-4b14-aecb-a2d3ef105e46"
      },
      "execution_count": 256,
      "outputs": [
        {
          "output_type": "stream",
          "name": "stdout",
          "text": [
            "Accuracy: 1.0\n"
          ]
        }
      ]
    },
    {
      "cell_type": "code",
      "source": [
        "tree.plot_tree(single_tree)"
      ],
      "metadata": {
        "colab": {
          "base_uri": "https://localhost:8080/",
          "height": 602
        },
        "id": "cJZm-jP9emx_",
        "outputId": "e3286b46-d039-4a6a-8e18-7e10dd2a0f80"
      },
      "execution_count": 257,
      "outputs": [
        {
          "output_type": "execute_result",
          "data": {
            "text/plain": [
              "[Text(0.625, 0.9, 'x[0] <= 215.37\\ngini = 0.739\\nsamples = 389\\nvalue = [65, 120, 104, 100]'),\n",
              " Text(0.5, 0.7, 'x[1] <= 28.337\\ngini = 0.648\\nsamples = 285\\nvalue = [65, 120, 0, 100]'),\n",
              " Text(0.25, 0.5, 'x[1] <= 15.223\\ngini = 0.464\\nsamples = 184\\nvalue = [65, 118, 0, 1]'),\n",
              " Text(0.125, 0.3, 'gini = 0.0\\nsamples = 65\\nvalue = [65, 0, 0, 0]'),\n",
              " Text(0.375, 0.3, 'x[0] <= 102.586\\ngini = 0.017\\nsamples = 119\\nvalue = [0, 118, 0, 1]'),\n",
              " Text(0.25, 0.1, 'gini = 0.0\\nsamples = 118\\nvalue = [0, 118, 0, 0]'),\n",
              " Text(0.5, 0.1, 'gini = 0.0\\nsamples = 1\\nvalue = [0, 0, 0, 1]'),\n",
              " Text(0.75, 0.5, 'x[2] <= 0.626\\ngini = 0.039\\nsamples = 101\\nvalue = [0, 2, 0, 99]'),\n",
              " Text(0.625, 0.3, 'gini = 0.0\\nsamples = 2\\nvalue = [0, 2, 0, 0]'),\n",
              " Text(0.875, 0.3, 'gini = 0.0\\nsamples = 99\\nvalue = [0, 0, 0, 99]'),\n",
              " Text(0.75, 0.7, 'gini = 0.0\\nsamples = 104\\nvalue = [0, 0, 104, 0]')]"
            ]
          },
          "metadata": {},
          "execution_count": 257
        },
        {
          "output_type": "display_data",
          "data": {
            "text/plain": [
              "<Figure size 640x480 with 1 Axes>"
            ],
            "image/png": "[encoded data removed]"
          },
          "metadata": {}
        }
      ]
    },
    {
      "cell_type": "code",
      "source": [],
      "metadata": {
        "id": "jZJq9DFOep-K"
      },
      "execution_count": null,
      "outputs": []
    }
  ]
}