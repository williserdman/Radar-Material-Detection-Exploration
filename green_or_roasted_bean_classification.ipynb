{
  "nbformat": 4,
  "nbformat_minor": 0,
  "metadata": {
    "colab": {
      "provenance": [],
      "authorship_tag": "ABX9TyMr7iT484bB2U98rdFcfo9X",
      "include_colab_link": true
    },
    "kernelspec": {
      "name": "python3",
      "display_name": "Python 3"
    },
    "language_info": {
      "name": "python"
    }
  },
  "cells": [
    {
      "cell_type": "markdown",
      "metadata": {
        "id": "view-in-github",
        "colab_type": "text"
      },
      "source": [
        "<a href=\"https://colab.research.google.com/github/williserdman/Radar-Material-Detection-Exploration/blob/main/green_or_roasted_bean_classification.ipynb\" target=\"_parent\"><img src=\"https://colab.research.google.com/assets/colab-badge.svg\" alt=\"Open In Colab\"/></a>"
      ]
    },
    {
      "cell_type": "code",
      "execution_count": 4,
      "metadata": {
        "id": "i4-vSquI7-l5"
      },
      "outputs": [],
      "source": [
        "import numpy as np\n",
        "import h5py"
      ]
    },
    {
      "cell_type": "code",
      "source": [
        "%pip install acconeer-exptool"
      ],
      "metadata": {
        "colab": {
          "base_uri": "https://localhost:8080/"
        },
        "id": "cWlhMviV-aMO",
        "outputId": "90dc1aeb-3942-4930-ce96-6065b09fbf36"
      },
      "execution_count": 5,
      "outputs": [
        {
          "output_type": "stream",
          "name": "stdout",
          "text": [
            "Requirement already satisfied: acconeer-exptool in /usr/local/lib/python3.10/dist-packages (7.11.1)\n",
            "Requirement already satisfied: attributes-doc==0.3.0 in /usr/local/lib/python3.10/dist-packages (from acconeer-exptool) (0.3.0)\n",
            "Requirement already satisfied: attrs>=22.1.0 in /usr/local/lib/python3.10/dist-packages (from acconeer-exptool) (23.2.0)\n",
            "Requirement already satisfied: cbor2 in /usr/local/lib/python3.10/dist-packages (from acconeer-exptool) (5.6.4)\n",
            "Requirement already satisfied: exceptiongroup==1.1.1 in /usr/local/lib/python3.10/dist-packages (from acconeer-exptool) (1.1.1)\n",
            "Requirement already satisfied: h5py<4,>=3.8 in /usr/local/lib/python3.10/dist-packages (from acconeer-exptool) (3.9.0)\n",
            "Requirement already satisfied: numpy<2,>=1.20 in /usr/local/lib/python3.10/dist-packages (from acconeer-exptool) (1.25.2)\n",
            "Requirement already satisfied: packaging in /usr/local/lib/python3.10/dist-packages (from acconeer-exptool) (24.1)\n",
            "Requirement already satisfied: pandas>=1.3.5 in /usr/local/lib/python3.10/dist-packages (from acconeer-exptool) (2.0.3)\n",
            "Requirement already satisfied: pyserial>=3.5 in /usr/local/lib/python3.10/dist-packages (from acconeer-exptool) (3.5)\n",
            "Requirement already satisfied: pyusb>=1.2.1 in /usr/local/lib/python3.10/dist-packages (from acconeer-exptool) (1.2.1)\n",
            "Requirement already satisfied: pyyaml in /usr/local/lib/python3.10/dist-packages (from acconeer-exptool) (6.0.1)\n",
            "Requirement already satisfied: requests<3,>=2.0 in /usr/local/lib/python3.10/dist-packages (from acconeer-exptool) (2.31.0)\n",
            "Requirement already satisfied: result==0.16.1 in /usr/local/lib/python3.10/dist-packages (from acconeer-exptool) (0.16.1)\n",
            "Requirement already satisfied: textual==0.1.18 in /usr/local/lib/python3.10/dist-packages (from acconeer-exptool) (0.1.18)\n",
            "Requirement already satisfied: typing-extensions<5,>=4 in /usr/local/lib/python3.10/dist-packages (from acconeer-exptool) (4.12.2)\n",
            "Requirement already satisfied: xlsxwriter>=3.1.9 in /usr/local/lib/python3.10/dist-packages (from acconeer-exptool) (3.2.0)\n",
            "Requirement already satisfied: rich<13.0.0,>=12.3.0 in /usr/local/lib/python3.10/dist-packages (from textual==0.1.18->acconeer-exptool) (12.6.0)\n",
            "Requirement already satisfied: python-dateutil>=2.8.2 in /usr/local/lib/python3.10/dist-packages (from pandas>=1.3.5->acconeer-exptool) (2.8.2)\n",
            "Requirement already satisfied: pytz>=2020.1 in /usr/local/lib/python3.10/dist-packages (from pandas>=1.3.5->acconeer-exptool) (2023.4)\n",
            "Requirement already satisfied: tzdata>=2022.1 in /usr/local/lib/python3.10/dist-packages (from pandas>=1.3.5->acconeer-exptool) (2024.1)\n",
            "Requirement already satisfied: charset-normalizer<4,>=2 in /usr/local/lib/python3.10/dist-packages (from requests<3,>=2.0->acconeer-exptool) (3.3.2)\n",
            "Requirement already satisfied: idna<4,>=2.5 in /usr/local/lib/python3.10/dist-packages (from requests<3,>=2.0->acconeer-exptool) (3.7)\n",
            "Requirement already satisfied: urllib3<3,>=1.21.1 in /usr/local/lib/python3.10/dist-packages (from requests<3,>=2.0->acconeer-exptool) (2.0.7)\n",
            "Requirement already satisfied: certifi>=2017.4.17 in /usr/local/lib/python3.10/dist-packages (from requests<3,>=2.0->acconeer-exptool) (2024.6.2)\n",
            "Requirement already satisfied: six>=1.5 in /usr/local/lib/python3.10/dist-packages (from python-dateutil>=2.8.2->pandas>=1.3.5->acconeer-exptool) (1.16.0)\n",
            "Requirement already satisfied: commonmark<0.10.0,>=0.9.0 in /usr/local/lib/python3.10/dist-packages (from rich<13.0.0,>=12.3.0->textual==0.1.18->acconeer-exptool) (0.9.1)\n",
            "Requirement already satisfied: pygments<3.0.0,>=2.6.0 in /usr/local/lib/python3.10/dist-packages (from rich<13.0.0,>=12.3.0->textual==0.1.18->acconeer-exptool) (2.16.1)\n"
          ]
        }
      ]
    },
    {
      "cell_type": "code",
      "source": [
        "from acconeer.exptool import a121\n",
        "record = a121.load_record(\"green.h5\")\n",
        "record.extended_stacked_results"
      ],
      "metadata": {
        "colab": {
          "base_uri": "https://localhost:8080/"
        },
        "id": "o4tjkDouKNt5",
        "outputId": "5bdd55e2-5a2c-44c1-bd90-03eee953d3c4"
      },
      "execution_count": 6,
      "outputs": [
        {
          "output_type": "execute_result",
          "data": {
            "text/plain": [
              "[{1: StackedResults(data_saturated=array([False, False, False, False, False, False, False, False, False,\n",
              "         False, False, False, False, False, False, False, False, False,\n",
              "         False, False, False, False, False, False, False, False, False,\n",
              "         False, False, False, False, False, False, False, False, False,\n",
              "         False, False, False, False, False, False, False, False, False,\n",
              "         False, False, False, False, False, False, False, False, False,\n",
              "         False, False, False, False, False, False, False, False, False,\n",
              "         False, False, False, False, False, False, False, False, False,\n",
              "         False, False, False, False, False, False, False, False, False,\n",
              "         False, False, False, False, False, False, False, False, False,\n",
              "         False, False, False, False, False, False, False, False, False,\n",
              "         False, False, False, False, False, False, False, False, False,\n",
              "         False, False, False, False, False, False, False, False, False,\n",
              "         False, False, False, False, False, False, False, False, False,\n",
              "         False, False, False, False, False, False, False, False, False,\n",
              "         False, False, False, False, False, False, False, False, False,\n",
              "         False, False, False, False, False, False, False, False, False,\n",
              "         False, False, False, False, False, False, False, False, False,\n",
              "         False, False, False, False, False, False, False, False, False,\n",
              "         False, False, False, False, False, False, False, False, False,\n",
              "         False, False, False, False, False, False, False, False, False,\n",
              "         False, False, False, False, False, False, False, False, False,\n",
              "         False, False, False, False, False]), frame_delayed=array([False, False, False, False, False, False, False, False, False,\n",
              "         False, False, False, False, False, False, False, False, False,\n",
              "         False, False, False, False, False, False, False, False, False,\n",
              "         False, False, False, False, False, False, False, False, False,\n",
              "         False, False, False, False, False, False, False, False, False,\n",
              "         False, False, False, False, False, False, False, False, False,\n",
              "         False, False, False, False, False, False, False, False, False,\n",
              "         False, False, False, False, False, False, False, False, False,\n",
              "         False, False, False, False, False, False, False, False, False,\n",
              "         False, False, False, False, False, False, False, False, False,\n",
              "         False, False, False, False, False, False, False, False, False,\n",
              "         False, False, False, False, False, False, False, False, False,\n",
              "         False, False, False, False, False, False, False, False, False,\n",
              "         False, False, False, False, False, False, False, False, False,\n",
              "         False, False, False, False, False, False, False, False, False,\n",
              "         False, False, False, False, False, False, False, False, False,\n",
              "         False, False, False, False, False, False, False, False, False,\n",
              "         False, False, False, False, False, False, False, False, False,\n",
              "         False, False, False, False, False, False, False, False, False,\n",
              "         False, False, False, False, False, False, False, False, False,\n",
              "         False, False, False, False, False, False, False, False, False,\n",
              "         False, False, False, False, False, False, False, False, False,\n",
              "         False, False, False, False, False]), calibration_needed=array([False, False, False, False, False, False, False, False, False,\n",
              "         False, False, False, False, False, False, False, False, False,\n",
              "         False, False, False, False, False, False, False, False, False,\n",
              "         False, False, False, False, False, False, False, False, False,\n",
              "         False, False, False, False, False, False, False, False, False,\n",
              "         False, False, False, False, False, False, False, False, False,\n",
              "         False, False, False, False, False, False, False, False, False,\n",
              "         False, False, False, False, False, False, False, False, False,\n",
              "         False, False, False, False, False, False, False, False, False,\n",
              "         False, False, False, False, False, False, False, False, False,\n",
              "         False, False, False, False, False, False, False, False, False,\n",
              "         False, False, False, False, False, False, False, False, False,\n",
              "         False, False, False, False, False, False, False, False, False,\n",
              "         False, False, False, False, False, False, False, False, False,\n",
              "         False, False, False, False, False, False, False, False, False,\n",
              "         False, False, False, False, False, False, False, False, False,\n",
              "         False, False, False, False, False, False, False, False, False,\n",
              "         False, False, False, False, False, False, False, False, False,\n",
              "         False, False, False, False, False, False, False, False, False,\n",
              "         False, False, False, False, False, False, False, False, False,\n",
              "         False, False, False, False, False, False, False, False, False,\n",
              "         False, False, False, False, False, False, False, False, False,\n",
              "         False, False, False, False, False]), temperature=array([26, 26, 27, 27, 27, 27, 27, 27, 27, 27, 27, 27, 27, 27, 27, 27, 27,\n",
              "         27, 27, 27, 28, 27, 27, 27, 27, 28, 28, 27, 28, 27, 27, 28, 28, 27,\n",
              "         27, 27, 27, 28, 28, 28, 27, 27, 27, 28, 28, 28, 28, 28, 28, 27, 27,\n",
              "         27, 27, 28, 28, 27, 28, 28, 27, 28, 27, 28, 27, 28, 27, 28, 27, 27,\n",
              "         28, 28, 28, 28, 28, 28, 28, 27, 28, 28, 28, 28, 28, 28, 28, 28, 28,\n",
              "         28, 27, 28, 28, 28, 28, 28, 28, 28, 28, 28, 28, 28, 28, 28, 28, 28,\n",
              "         28, 28, 27, 28, 28, 28, 28, 28, 27, 28, 28, 28, 28, 28, 28, 28, 28,\n",
              "         28, 28, 28, 28, 28, 28, 28, 28, 28, 28, 28, 28, 28, 28, 28, 28, 28,\n",
              "         28, 28, 28, 28, 28, 27, 28, 28, 28, 28, 28, 28, 28, 28, 28, 28, 28,\n",
              "         28, 28, 28, 28, 28, 28, 28, 28, 28, 28, 28, 28, 28, 28, 28, 28, 28,\n",
              "         28, 28, 28, 28, 28, 28, 28, 28, 27, 28, 28, 28, 28, 28, 28, 28, 28,\n",
              "         28, 28, 28, 28, 28, 28, 28, 28, 28, 28, 28, 28, 28, 28, 28, 28]), _frame=array([[[( 2, 11), (-1,  8), ( 0, 11), ..., ( 1,  2), ( 0,  2),\n",
              "           ( 0,  6)]],\n",
              "  \n",
              "         [[( 0,  9), ( 2, 11), (-2,  6), ..., ( 0,  1), (-1,  5),\n",
              "           ( 0,  2)]],\n",
              "  \n",
              "         [[( 0, 12), (-1,  3), ( 3, 12), ..., ( 4,  2), ( 0,  1),\n",
              "           ( 0,  2)]],\n",
              "  \n",
              "         ...,\n",
              "  \n",
              "         [[( 5,  9), (-1,  7), ( 3, 12), ..., (-1,  6), ( 0,  0),\n",
              "           (-2,  3)]],\n",
              "  \n",
              "         [[( 0, 14), ( 2, 11), ( 2,  4), ..., ( 2,  3), ( 0,  2),\n",
              "           (-3,  0)]],\n",
              "  \n",
              "         [[( 6, 10), (-1, 10), ( 4,  7), ..., (-1,  3), ( 2,  3),\n",
              "           ( 3, -1)]]], dtype=[('real', '<i2'), ('imag', '<i2')]), tick=array([472800, 472865, 472931, 472997, 473063, 473129, 473195, 473261,\n",
              "         473327, 473393, 473459, 473525, 473591, 473657, 473723, 473789,\n",
              "         473855, 473921, 473987, 474053, 474119, 474185, 474251, 474317,\n",
              "         474383, 474449, 474515, 474581, 474647, 474713, 474779, 474845,\n",
              "         474911, 474977, 475043, 475109, 475175, 475241, 475307, 475373,\n",
              "         475439, 475505, 475571, 475637, 475703, 475769, 475835, 475901,\n",
              "         475967, 476033, 476099, 476165, 476231, 476297, 476363, 476429,\n",
              "         476495, 476561, 476627, 476693, 476759, 476825, 476891, 476957,\n",
              "         477023, 477089, 477155, 477221, 477287, 477353, 477419, 477485,\n",
              "         477551, 477617, 477683, 477749, 477815, 477881, 477947, 478013,\n",
              "         478079, 478145, 478211, 478277, 478343, 478409, 478475, 478541,\n",
              "         478607, 478673, 478739, 478805, 478871, 478937, 479003, 479069,\n",
              "         479135, 479201, 479267, 479333, 479399, 479465, 479531, 479597,\n",
              "         479663, 479729, 479795, 479861, 479927, 479993, 480059, 480125,\n",
              "         480191, 480257, 480323, 480389, 480455, 480521, 480587, 480653,\n",
              "         480719, 480785, 480851, 480917, 480983, 481049, 481115, 481181,\n",
              "         481247, 481313, 481379, 481445, 481511, 481577, 481643, 481709,\n",
              "         481775, 481841, 481907, 481973, 482039, 482105, 482171, 482237,\n",
              "         482303, 482369, 482435, 482501, 482567, 482633, 482699, 482765,\n",
              "         482831, 482897, 482963, 483029, 483095, 483161, 483227, 483293,\n",
              "         483359, 483425, 483491, 483557, 483623, 483689, 483755, 483821,\n",
              "         483887, 483953, 484019, 484085, 484151, 484217, 484283, 484349,\n",
              "         484415, 484481, 484547, 484613, 484679, 484745, 484811, 484877,\n",
              "         484943, 485009, 485075, 485141, 485207, 485273, 485339, 485405,\n",
              "         485471, 485537, 485603, 485669, 485735, 485801, 485867, 485933,\n",
              "         485999, 486065, 486131]), _context=ResultContext(metadata=Metadata(_frame_data_length=144, _sweep_data_length=144, _subsweep_data_offset=array([ 0, 62, 72, 82]), _subsweep_data_length=array([62, 10, 10, 62]), _calibration_temperature=26, _tick_period=66, _base_step_length_m=0.00250227400101721, _max_sweep_rate=25.0617065429688, _high_speed_mode=False), ticks_per_second=1000))}]"
            ]
          },
          "metadata": {},
          "execution_count": 6
        }
      ]
    },
    {
      "cell_type": "code",
      "source": [
        "def process_h5(record):\n",
        "  data = []\n",
        "  for elm in record.extended_stacked_results:\n",
        "    dframe = [elm[key].frame for key in elm.keys()]\n",
        "    dframe = np.array(dframe)\n",
        "    #data.append(dframe)\n",
        "  return np.squeeze(abs(dframe))"
      ],
      "metadata": {
        "id": "9oIzrH0bLAZ5"
      },
      "execution_count": 7,
      "outputs": []
    },
    {
      "cell_type": "code",
      "source": [
        "green_record = a121.load_record(\"green.h5\")\n",
        "roasted_record = a121.load_record(\"roasted.h5\")"
      ],
      "metadata": {
        "id": "PwgRGy5kOjzm"
      },
      "execution_count": 8,
      "outputs": []
    },
    {
      "cell_type": "code",
      "source": [
        "process_h5(green_record)"
      ],
      "metadata": {
        "id": "IF3_RktqbPZ7",
        "colab": {
          "base_uri": "https://localhost:8080/"
        },
        "outputId": "b1700fd5-a7d0-4ac5-bc10-3ec9acb1a425"
      },
      "execution_count": 9,
      "outputs": [
        {
          "output_type": "execute_result",
          "data": {
            "text/plain": [
              "array([[11.18033989,  8.06225775, 11.        , ...,  2.23606798,\n",
              "         2.        ,  6.        ],\n",
              "       [ 9.        , 11.18033989,  6.32455532, ...,  1.        ,\n",
              "         5.09901951,  2.        ],\n",
              "       [12.        ,  3.16227766, 12.36931688, ...,  4.47213595,\n",
              "         1.        ,  2.        ],\n",
              "       ...,\n",
              "       [10.29563014,  7.07106781, 12.36931688, ...,  6.08276253,\n",
              "         0.        ,  3.60555128],\n",
              "       [14.        , 11.18033989,  4.47213595, ...,  3.60555128,\n",
              "         2.        ,  3.        ],\n",
              "       [11.66190379, 10.04987562,  8.06225775, ...,  3.16227766,\n",
              "         3.60555128,  3.16227766]])"
            ]
          },
          "metadata": {},
          "execution_count": 9
        }
      ]
    },
    {
      "cell_type": "code",
      "source": [
        "from scipy.signal import find_peaks\n",
        "def feature_extraction(test_data):\n",
        "  data = []\n",
        "  for i in test_data:\n",
        "    peaks, _ = find_peaks(i)\n",
        "    #print(peaks)\n",
        "    sorted_peaks = peaks[np.argsort(i[peaks])][::-1]\n",
        "    top_two_peaks = sorted_peaks[:2]\n",
        "    #print(\"Indices of the two peaks:\", top_two_peaks)\n",
        "    #print(\"Values of the two peaks:\", i[top_two_peaks])\n",
        "    features = i[top_two_peaks].tolist()\n",
        "    features.append(top_two_peaks[0] / top_two_peaks[1])\n",
        "    data.append(features)\n",
        "  return data, len(data)"
      ],
      "metadata": {
        "id": "LUZqKomiYy3R"
      },
      "execution_count": 10,
      "outputs": []
    },
    {
      "cell_type": "code",
      "source": [
        "feature_extraction(process_h5(roasted_record))"
      ],
      "metadata": {
        "colab": {
          "base_uri": "https://localhost:8080/"
        },
        "id": "9m6Zr8K0a6PX",
        "outputId": "930e6129-8135-49bf-8ff7-e9c393238d21"
      },
      "execution_count": 12,
      "outputs": [
        {
          "output_type": "execute_result",
          "data": {
            "text/plain": [
              "([[283.5507009337131, 253.01383361389549, 1.0526315789473684],\n",
              "  [282.0726856680738, 271.56214758320056, 1.0256410256410255],\n",
              "  [288.99826989101507, 270.08332047721865, 1.0256410256410255],\n",
              "  [276.55198426335687, 244.72433471152806, 1.0526315789473684],\n",
              "  [283.30195904723286, 272.02941017470886, 1.0526315789473684],\n",
              "  [270.11293934204633, 264.8244701684495, 1.0394736842105263],\n",
              "  [277.89386463180506, 253.38705570727166, 1.0526315789473684],\n",
              "  [289.08476265621476, 258.549801779077, 0.9404761904761905],\n",
              "  [270.1851217221259, 253.4640013887574, 0.963855421686747],\n",
              "  [276.52305509667724, 267.8245694479877, 1.0256410256410255],\n",
              "  [279.87318556803547, 258.8532402733255, 1.0526315789473684],\n",
              "  [283.17662332897464, 259.9423012901132, 1.0526315789473684],\n",
              "  [269.60155785900054, 251.67637950352037, 1.0526315789473684],\n",
              "  [301.28060010561586, 263.78210705049725, 0.9523809523809523],\n",
              "  [276.4706132665821, 268.07648162418127, 1.0394736842105263],\n",
              "  [267.52569970004754, 255.19600310349688, 1.0526315789473684],\n",
              "  [283.2119347767675, 266.51078777415375, 1.0526315789473684],\n",
              "  [283.4713389392303, 265.84958153060916, 1.0394736842105263],\n",
              "  [287.8002779706788, 244.2642012248213, 1.0526315789473684],\n",
              "  [283.2189965380147, 267.37239947309445, 0.9523809523809523],\n",
              "  [277.4184564876677, 265.80067720004024, 1.0256410256410255],\n",
              "  [296.05742686174926, 260.969346858975, 1.0526315789473684],\n",
              "  [277.36618395182927, 266.60270066148996, 0.975609756097561],\n",
              "  [281.46047679914136, 258.0310058888272, 1.0526315789473684],\n",
              "  [293.0187707297947, 255.51907952244974, 1.0526315789473684],\n",
              "  [278.14564530116235, 271.28029784707917, 1.0256410256410255],\n",
              "  [281.5546128196091, 265.00188678573596, 0.9523809523809523],\n",
              "  [272.09189624095757, 255.76551761330143, 1.0526315789473684],\n",
              "  [297.8808486626826, 274.5541840875859, 1.0526315789473684],\n",
              "  [279.32955446926843, 254.70178640912593, 1.0526315789473684],\n",
              "  [276.79956647364895, 258.21309029559285, 1.0526315789473684],\n",
              "  [293.4569815151788, 261.13789460742765, 1.0526315789473684],\n",
              "  [289.17814578560393, 266.0695397823659, 0.975609756097561],\n",
              "  [299.80827206733306, 275.4650613054222, 1.0256410256410255],\n",
              "  [286.93204770467867, 264.7149410214694, 1.0256410256410255],\n",
              "  [291.81500989496755, 256.51705596314645, 1.0526315789473684],\n",
              "  [296.7237772744206, 266.1766330841233, 1.0526315789473684],\n",
              "  [267.0674072214728, 252.20031720836514, 1.0526315789473684],\n",
              "  [291.02920815615744, 266.44323973409416, 0.9523809523809523],\n",
              "  [273.4904020253727, 250.8007177023224, 1.0526315789473684],\n",
              "  [278.35229476330886, 273.2398214023717, 1.0256410256410255],\n",
              "  [275.94383486499567, 273.7151804339686, 0.975],\n",
              "  [288.47530223573733, 253.3396929026322, 1.0526315789473684],\n",
              "  [280.60114041108244, 261.07853224652536, 1.0256410256410255],\n",
              "  [275.4269413111216, 265.32432983049256, 1.0256410256410255],\n",
              "  [279.8660393831306, 267.37239947309445, 1.0256410256410255],\n",
              "  [265.33940529065785, 256.45272468819667, 1.0256410256410255],\n",
              "  [280.6314308839977, 250.73093147834788, 1.0526315789473684],\n",
              "  [285.4277491765648, 267.00187265260894, 1.0256410256410255],\n",
              "  [261.28337107439506, 252.62026838715852, 1.0526315789473684],\n",
              "  [286.22019495486336, 268.6428856307198, 1.0256410256410255],\n",
              "  [283.425475213503, 260.714403131089, 1.0256410256410255],\n",
              "  [281.04270138183625, 275.10906927980403, 0.975],\n",
              "  [280.5298558086109, 260.155722597063, 1.0526315789473684],\n",
              "  [282.90811229089917, 274.3610759564848, 1.0256410256410255],\n",
              "  [279.4011453090341, 258.7856255668, 1.0256410256410255],\n",
              "  [274.4321409747772, 257.2003110418026, 1.0526315789473684],\n",
              "  [277.68327281274975, 254.93920843997302, 0.9523809523809523],\n",
              "  [288.99826989101507, 271.0885464197999, 1.0256410256410255],\n",
              "  [275.4941015702514, 240.74052421642685, 0.9523809523809523],\n",
              "  [277.4779270500628, 255.7264163124334, 1.0526315789473684],\n",
              "  [279.87318556803547, 256.55019002136794, 1.0526315789473684],\n",
              "  [280.72940708091124, 251.31056483960236, 1.0526315789473684],\n",
              "  [270.4958410031474, 260.43233286210835, 1.0526315789473684],\n",
              "  [284.3132075722125, 253.8227728159946, 1.0526315789473684],\n",
              "  [273.9288228719278, 267.3667892614937, 1.0256410256410255],\n",
              "  [301.390112644725, 259.4012336131037, 1.0526315789473684],\n",
              "  [280.178514522438, 253.99409441953568, 1.0526315789473684],\n",
              "  [297.7129489961765, 261.55305389155757, 1.0526315789473684],\n",
              "  [269.65162710430656, 264.372842780797, 1.0394736842105263],\n",
              "  [281.0160137785745, 278.60007178749976, 1.0256410256410255],\n",
              "  [267.8600380795911, 247.38633753705966, 0.963855421686747],\n",
              "  [290.6888370749727, 261.0076627227637, 1.0526315789473684],\n",
              "  [274.6142749385035, 274.3902330623304, 1.0256410256410255],\n",
              "  [274.60881267723363, 263.2299375071156, 1.0256410256410255],\n",
              "  [279.4011453090341, 248.51559307214507, 1.0526315789473684],\n",
              "  [270.44038160008574, 261.0938528575501, 1.0526315789473684],\n",
              "  [276.1394575210142, 248.3646512690564, 1.0526315789473684],\n",
              "  [279.5514263959316, 272.237029075767, 1.0256410256410255],\n",
              "  [285.70264261990997, 247.00202428320299, 1.0526315789473684],\n",
              "  [280.4175458133817, 265.51459470243816, 1.0526315789473684],\n",
              "  [286.44720281406137, 271.9062338380641, 1.0256410256410255],\n",
              "  [280.3711825420009, 260.6012279326404, 1.0526315789473684],\n",
              "  [302.8530997034701, 263.0304164920855, 1.0526315789473684],\n",
              "  [279.25615481131297, 260.4649688537789, 1.0256410256410255],\n",
              "  [282.842712474619, 256.587217140683, 1.0526315789473684],\n",
              "  [281.6256380374486, 253.7754913304277, 1.0526315789473684],\n",
              "  [271.28029784707917, 264.0075756488817, 1.0526315789473684],\n",
              "  [279.46019394539894, 251.28668886353688, 1.0526315789473684],\n",
              "  [280.6652810733811, 272.0588171701112, 1.0256410256410255],\n",
              "  [269.6145396672813, 267.37239947309445, 1.0256410256410255],\n",
              "  [283.4801580357962, 268.12683565805196, 1.0256410256410255],\n",
              "  [283.8679270365006, 261.7479703837262, 1.0256410256410255],\n",
              "  [275.6320010448714, 251.56311335328957, 1.0526315789473684],\n",
              "  [280.22312538404105, 252.81218325072862, 1.0526315789473684],\n",
              "  [270.04629232781554, 252.84184780213897, 0.9404761904761905],\n",
              "  [286.0069929215018, 255.78311124857325, 1.0526315789473684],\n",
              "  [263.8560213449752, 261.36947029062134, 1.0394736842105263],\n",
              "  [267.6602323842673, 258.64454372748713, 1.0394736842105263],\n",
              "  [277.0018050482704, 252.7152547829276, 1.0526315789473684],\n",
              "  [297.3213749463701, 256.0703028466987, 1.0526315789473684],\n",
              "  [275.2035610234722, 259.26048676958084, 0.975609756097561],\n",
              "  [271.67075661542964, 265.32432983049256, 1.0256410256410255],\n",
              "  [272.7214696352306, 252.42028444639706, 0.975609756097561],\n",
              "  [277.2435752186153, 270.9778588741154, 1.0256410256410255],\n",
              "  [278.4546641735419, 273.7608445340568, 1.0256410256410255],\n",
              "  [286.174771774173, 276.4489102890442, 1.0256410256410255],\n",
              "  [282.25166075685013, 263.8219096284461, 1.0526315789473684],\n",
              "  [266.9082239272518, 248.35861168882386, 1.0394736842105263],\n",
              "  [283.14307337457507, 278.8045910669335, 1.0526315789473684],\n",
              "  [274.4485379811669, 262.2403477728017, 1.0526315789473684],\n",
              "  [274.13317931253783, 261.91028998494886, 1.0526315789473684],\n",
              "  [287.98784696580515, 264.40121028467325, 1.0526315789473684],\n",
              "  [279.5084971874737, 259.37039152532424, 1.0526315789473684],\n",
              "  [282.20028348674634, 274.05291459862275, 1.0256410256410255],\n",
              "  [277.2183255125822, 252.6697449240807, 1.0526315789473684],\n",
              "  [269.4308816746885, 268.9386547151599, 1.0253164556962024],\n",
              "  [282.0815484926301, 261.2661478263114, 1.0256410256410255],\n",
              "  [283.09892264012586, 266.05638500137525, 0.975609756097561],\n",
              "  [278.6485241303101, 269.0018587296378, 1.0256410256410255],\n",
              "  [295.6010825419961, 250.34775812856802, 1.0526315789473684],\n",
              "  [279.25615481131297, 262.25560051217207, 1.0526315789473684],\n",
              "  [287.93922969960175, 268.0690209628856, 1.0256410256410255],\n",
              "  [282.9628950940388, 260.0, 1.0526315789473684],\n",
              "  [289.7050223934683, 268.3076592272386, 1.0256410256410255],\n",
              "  [266.29307163349176, 245.34873140083687, 1.0394736842105263],\n",
              "  [283.55775425828153, 263.1539473388153, 1.0526315789473684],\n",
              "  [282.52610498854796, 261.9637379485947, 1.0526315789473684],\n",
              "  [274.6142749385035, 259.69982672308424, 1.0526315789473684],\n",
              "  [266.5970742525131, 264.8244701684495, 1.0256410256410255],\n",
              "  [284.80344099044873, 273.3093485411723, 1.0256410256410255],\n",
              "  [289.0847626562147, 261.5893728728291, 1.0526315789473684],\n",
              "  [294.6879705722648, 254.0649523251879, 1.0526315789473684],\n",
              "  [278.21035207195297, 207.93508602446104, 1.0675675675675675],\n",
              "  [286.5658737533135, 275.6700926832652, 1.0256410256410255],\n",
              "  [281.58480072617556, 275.0, 1.0526315789473684],\n",
              "  [288.25162618795406, 268.49581002317336, 1.0256410256410255],\n",
              "  [292.9846412356798, 269.937029693964, 1.0526315789473684],\n",
              "  [297.3213749463701, 257.85654926722344, 1.0526315789473684],\n",
              "  [288.84597971929605, 265.70848687988877, 1.0526315789473684],\n",
              "  [282.06382256503576, 269.56446353330773, 1.0256410256410255],\n",
              "  [289.0069203323685, 245.75801105966005, 0.963855421686747],\n",
              "  [285.4137347781287, 260.83711392361323, 0.975609756097561],\n",
              "  [285.79713084634, 265.0, 1.0526315789473684],\n",
              "  [275.97463651574935, 259.1698284908951, 1.0526315789473684],\n",
              "  [280.0660636349931, 275.8278448597966, 1.0256410256410255],\n",
              "  [269.3287953413077, 258.0697580112788, 1.0263157894736843],\n",
              "  [277.72108310317384, 238.40302011509837, 0.9523809523809523],\n",
              "  [270.22398117117586, 269.7146640433182, 1.0263157894736843],\n",
              "  [272.6847997230502, 265.85146228674387, 1.0256410256410255],\n",
              "  [267.00187265260894, 252.60443384865596, 0.975609756097561],\n",
              "  [279.20064469839605, 250.2258979402412, 0.963855421686747],\n",
              "  [279.8035024798653, 262.58903252040056, 1.0526315789473684],\n",
              "  [282.20028348674634, 259.18719104153274, 0.975609756097561],\n",
              "  [277.9082582436153, 253.90155572583637, 1.0526315789473684],\n",
              "  [271.9062338380641, 253.99409441953568, 1.0526315789473684],\n",
              "  [282.00177304407146, 259.6093218665308, 1.0526315789473684],\n",
              "  [281.27744310555727, 261.45171638373307, 1.0526315789473684],\n",
              "  [294.8711583047756, 264.55245226608656, 0.975609756097561],\n",
              "  [271.6265819097976, 263.13684652666944, 0.975609756097561],\n",
              "  [283.6476687723698, 257.0992026436488, 0.975609756097561],\n",
              "  [279.0143365492175, 253.7971631047124, 1.0526315789473684],\n",
              "  [274.8235797743709, 271.6026509443529, 1.0256410256410255],\n",
              "  [267.6191323504356, 262.14881269996243, 1.0526315789473684],\n",
              "  [270.60118255469615, 261.01532522057016, 1.0526315789473684],\n",
              "  [283.64061768371613, 250.05999280172747, 1.0526315789473684],\n",
              "  [279.82315844118403, 264.80370088048244, 1.0256410256410255],\n",
              "  [271.28029784707917, 261.8110005328271, 1.0526315789473684],\n",
              "  [290.1344515909822, 259.1466766138435, 0.975609756097561],\n",
              "  [279.82315844118403, 269.0167281044062, 1.0256410256410255],\n",
              "  [285.6028711340276, 266.1766330841233, 1.0256410256410255],\n",
              "  [281.4391586115905, 260.31711430484165, 1.0256410256410255],\n",
              "  [283.0017667789373, 257.8410362994999, 0.975609756097561],\n",
              "  [289.6014502726117, 263.41032629720496, 1.0526315789473684],\n",
              "  [281.30055101261354, 256.0175775215444, 0.975609756097561],\n",
              "  [279.23466833471804, 248.35861168882386, 1.0526315789473684],\n",
              "  [276.80498550423545, 275.0872588834314, 0.975],\n",
              "  [284.80344099044873, 255.38402455909414, 0.9523809523809523],\n",
              "  [292.0, 268.8828741292387, 1.0256410256410255],\n",
              "  [295.1694428629088, 256.7508519946915, 1.0526315789473684],\n",
              "  [281.82263926093657, 273.40263349134, 1.0256410256410255],\n",
              "  [272.1212964837556, 258.58847615468096, 1.0526315789473684],\n",
              "  [286.37911935055604, 268.7601160886786, 1.0256410256410255],\n",
              "  [281.44271175498574, 271.70940359141053, 1.0256410256410255],\n",
              "  [285.66063782047394, 260.04999519323206, 1.0394736842105263],\n",
              "  [270.44038160008574, 257.0311265197272, 1.0394736842105263],\n",
              "  [280.4139796800438, 259.59969183340723, 1.0526315789473684],\n",
              "  [289.4995682207488, 258.65227623200997, 1.0526315789473684],\n",
              "  [273.97992627198073, 247.39644298170498, 1.0526315789473684],\n",
              "  [275.82965757873103, 258.00968974052114, 1.0526315789473684],\n",
              "  [274.61245419681893, 269.2359559939942, 1.0526315789473684],\n",
              "  [284.11617342207046, 260.41505332833583, 1.0526315789473684],\n",
              "  [280.14282071829, 258.6426105652353, 1.0526315789473684],\n",
              "  [274.61245419681893, 268.4715999877827, 1.0256410256410255],\n",
              "  [296.54679226051326, 268.07648162418127, 1.0526315789473684],\n",
              "  [269.05018119302576, 263.0304164920856, 1.0256410256410255],\n",
              "  [285.1613578309656, 268.7601160886786, 1.0256410256410255],\n",
              "  [296.7237772744206, 251.74788976275448, 1.0526315789473684],\n",
              "  [286.2621176474456, 254.20070810286896, 1.0526315789473684],\n",
              "  [280.1035522802237, 244.38085031360373, 0.9523809523809523],\n",
              "  [281.44093518889537, 279.4065138825507, 1.0256410256410255],\n",
              "  [276.0163038662752, 254.40125785852555, 1.0526315789473684],\n",
              "  [277.62744821072715, 259.56309444911466, 1.0526315789473684],\n",
              "  [273.19040978775223, 245.05101509685693, 0.9523809523809523],\n",
              "  [288.10588331375675, 264.69794105734934, 1.0526315789473684],\n",
              "  [269.05018119302576, 247.35804009572846, 1.0526315789473684],\n",
              "  [291.556169545424, 268.6000744601535, 1.0526315789473684],\n",
              "  [279.4011453090341, 271.1180554666177, 1.0526315789473684],\n",
              "  [281.44271175498574, 268.330020683486, 1.0256410256410255],\n",
              "  [283.0688962072661, 253.90155572583637, 1.0526315789473684]],\n",
              " 210)"
            ]
          },
          "metadata": {},
          "execution_count": 12
        }
      ]
    },
    {
      "cell_type": "code",
      "source": [
        "gd, gl = feature_extraction(process_h5(green_record))\n",
        "rd, rl = feature_extraction(process_h5(roasted_record))\n",
        "\n",
        "data = gd + rd\n",
        "labels = [\"green\"] * gl + [\"roasted\"] * rl"
      ],
      "metadata": {
        "id": "GdHfzP5zb9f2"
      },
      "execution_count": 13,
      "outputs": []
    },
    {
      "cell_type": "code",
      "source": [
        "len(data), len(labels)"
      ],
      "metadata": {
        "colab": {
          "base_uri": "https://localhost:8080/"
        },
        "id": "LhgdjhLvbFYg",
        "outputId": "076ab112-c2ec-432b-feb9-77bec49b6edd"
      },
      "execution_count": 14,
      "outputs": [
        {
          "output_type": "execute_result",
          "data": {
            "text/plain": [
              "(413, 413)"
            ]
          },
          "metadata": {},
          "execution_count": 14
        }
      ]
    },
    {
      "cell_type": "code",
      "source": [
        "data = np.array(data)\n",
        "labels = np.array(labels)"
      ],
      "metadata": {
        "id": "NxEcHvTCcl_2"
      },
      "execution_count": 15,
      "outputs": []
    },
    {
      "cell_type": "code",
      "source": [
        "from sklearn.model_selection import train_test_split\n",
        "X_train, X_test, y_train, y_test = train_test_split(data, labels, test_size=0.2, random_state=42)"
      ],
      "metadata": {
        "id": "LjQmsop2cW9w"
      },
      "execution_count": 16,
      "outputs": []
    },
    {
      "cell_type": "code",
      "source": [
        "X_test, y_test"
      ],
      "metadata": {
        "colab": {
          "base_uri": "https://localhost:8080/"
        },
        "id": "0dJ2kDT_c2na",
        "outputId": "78b19729-8b1d-4c66-f284-3d8d905e9df4"
      },
      "execution_count": 17,
      "outputs": [
        {
          "output_type": "execute_result",
          "data": {
            "text/plain": [
              "(array([[284.11617342, 260.41505333,   1.05263158],\n",
              "        [269.32879534, 258.06975801,   1.02631579],\n",
              "        [296.72377727, 251.74788976,   1.05263158],\n",
              "        [267.00187265, 252.60443385,   0.97560976],\n",
              "        [150.23315213, 134.33167906,   1.05714286],\n",
              "        [269.05018119, 247.3580401 ,   1.05263158],\n",
              "        [275.63200104, 251.56311335,   1.05263158],\n",
              "        [275.94383486, 273.71518043,   0.975     ],\n",
              "        [279.50849719, 259.37039153,   1.05263158],\n",
              "        [151.15885684, 144.08677941,   1.04225352],\n",
              "        [279.46019395, 251.28668886,   1.05263158],\n",
              "        [149.32514859, 141.79210133,   1.02777778],\n",
              "        [145.41320435, 144.91721775,   0.97222222],\n",
              "        [148.66068747, 146.26346092,   1.05714286],\n",
              "        [149.0536816 , 148.47558722,   1.05714286],\n",
              "        [147.25827651, 136.41847382,   1.08823529],\n",
              "        [149.91330828, 142.61837189,   1.05714286],\n",
              "        [271.28029785, 264.00757565,   1.05263158],\n",
              "        [141.94717327, 137.3062271 ,   1.04285714],\n",
              "        [279.25615481, 262.25560051,   1.05263158],\n",
              "        [154.14603466, 144.3086969 ,   1.02777778],\n",
              "        [154.98709624, 148.19244245,   1.02777778],\n",
              "        [286.26211765, 254.2007081 ,   1.05263158],\n",
              "        [283.00176678, 257.8410363 ,   0.97560976],\n",
              "        [271.28029785, 261.81100053,   1.05263158],\n",
              "        [280.10355228, 244.38085031,   0.95238095],\n",
              "        [150.96025967, 146.53668483,   1.02777778],\n",
              "        [283.48015804, 268.12683566,   1.02564103],\n",
              "        [150.84097587, 150.63200191,   0.97297297],\n",
              "        [148.14182394, 147.70578865,   0.95890411],\n",
              "        [151.48927355, 149.60280746,   1.02777778],\n",
              "        [157.16551785, 148.19244245,   1.02777778],\n",
              "        [141.54857823, 141.4390328 ,   0.97297297],\n",
              "        [146.45477118, 144.64093473,   1.02777778],\n",
              "        [150.65855435, 136.09188073,   0.97368421],\n",
              "        [285.16135783, 268.76011609,   1.02564103],\n",
              "        [280.37118254, 260.60122793,   1.05263158],\n",
              "        [280.72940708, 251.31056484,   1.05263158],\n",
              "        [274.60881268, 263.22993751,   1.02564103],\n",
              "        [281.27744311, 261.45171638,   1.05263158],\n",
              "        [156.73225577, 147.71932846,   1.02777778],\n",
              "        [291.55616955, 268.60007446,   1.05263158],\n",
              "        [149.34523762, 147.73286703,   1.04225352],\n",
              "        [147.25827651, 140.06427096,   1.02777778],\n",
              "        [297.712949  , 261.55305389,   1.05263158],\n",
              "        [148.97650822, 139.28388277,   1.07246377],\n",
              "        [278.21035207, 207.93508602,   1.06756757],\n",
              "        [281.82263926, 273.40263349,   1.02564103],\n",
              "        [152.20052562, 145.0965196 ,   1.07246377],\n",
              "        [279.2006447 , 250.22589794,   0.96385542],\n",
              "        [286.9320477 , 264.71494102,   1.02564103],\n",
              "        [150.61540426, 145.27904185,   1.02777778],\n",
              "        [269.6516271 , 264.37284278,   1.03947368],\n",
              "        [271.90623384, 253.99409442,   1.05263158],\n",
              "        [152.1085139 , 144.90341611,   1.04225352],\n",
              "        [149.05032707, 148.48905684,   1.02777778],\n",
              "        [150.68510212, 147.12239802,   1.05714286],\n",
              "        [280.14282072, 258.64261057,   1.05263158],\n",
              "        [147.47203125, 143.02447343,   1.05714286],\n",
              "        [142.21462653, 140.23551619,   1.05714286],\n",
              "        [271.62658191, 263.13684653,   0.97560976],\n",
              "        [150.13660446, 138.39797686,   1.08823529],\n",
              "        [269.05018119, 263.03041649,   1.02564103],\n",
              "        [283.14307337, 278.80459107,   1.05263158],\n",
              "        [148.77163708, 114.15778554,   0.94871795],\n",
              "        [160.05624012, 147.6482306 ,   1.04225352],\n",
              "        [147.85127663, 147.70578865,   0.95890411],\n",
              "        [154.98709624, 149.68299837,   1.02777778],\n",
              "        [148.14182394, 142.44297104,   1.02941176],\n",
              "        [148.3273407 , 144.08677941,   0.97297297],\n",
              "        [149.34523762, 139.53135848,   1.04225352],\n",
              "        [144.93101807, 143.37712509,   0.97297297],\n",
              "        [277.90825824, 253.90155573,   1.05263158],\n",
              "        [152.3450032 , 142.63590011,   1.02777778],\n",
              "        [160.96272861, 142.46754016,   1.05714286],\n",
              "        [145.67086188, 141.73919712,   1.02816901],\n",
              "        [265.33940529, 256.45272469,   1.02564103],\n",
              "        [150.86749153, 143.12581877,   1.02816901],\n",
              "        [279.25615481, 260.46496885,   1.02564103],\n",
              "        [278.64852413, 269.00185873,   1.02564103],\n",
              "        [151.48927355, 139.78555004,   1.02777778],\n",
              "        [267.86003808, 247.38633754,   0.96385542],\n",
              "        [280.41397968, 259.59969183,   1.05263158]]),\n",
              " array(['roasted', 'roasted', 'roasted', 'roasted', 'green', 'roasted',\n",
              "        'roasted', 'roasted', 'roasted', 'green', 'roasted', 'green',\n",
              "        'green', 'green', 'green', 'green', 'green', 'roasted', 'green',\n",
              "        'roasted', 'green', 'green', 'roasted', 'roasted', 'roasted',\n",
              "        'roasted', 'green', 'roasted', 'green', 'green', 'green', 'green',\n",
              "        'green', 'green', 'green', 'roasted', 'roasted', 'roasted',\n",
              "        'roasted', 'roasted', 'green', 'roasted', 'green', 'green',\n",
              "        'roasted', 'green', 'roasted', 'roasted', 'green', 'roasted',\n",
              "        'roasted', 'green', 'roasted', 'roasted', 'green', 'green',\n",
              "        'green', 'roasted', 'green', 'green', 'roasted', 'green',\n",
              "        'roasted', 'roasted', 'green', 'green', 'green', 'green', 'green',\n",
              "        'green', 'green', 'green', 'roasted', 'green', 'green', 'green',\n",
              "        'roasted', 'green', 'roasted', 'roasted', 'green', 'roasted',\n",
              "        'roasted'], dtype='<U7'))"
            ]
          },
          "metadata": {},
          "execution_count": 17
        }
      ]
    },
    {
      "cell_type": "code",
      "source": [
        "from sklearn.ensemble import RandomForestClassifier\n",
        "from sklearn.metrics import accuracy_score\n",
        "from sklearn import tree\n",
        "\n",
        "# Train classifier\n",
        "clf = RandomForestClassifier()\n",
        "clf.fit(X_train, y_train)\n",
        "\n",
        "# Predict and evaluate\n",
        "y_pred = clf.predict(X_test)\n",
        "accuracy = accuracy_score(y_test, y_pred)\n",
        "print(f'Accuracy: {accuracy}')"
      ],
      "metadata": {
        "colab": {
          "base_uri": "https://localhost:8080/"
        },
        "id": "Xf0yyq4LbtQx",
        "outputId": "5042898d-4c2a-4ef2-b211-957b8050f8a0"
      },
      "execution_count": 18,
      "outputs": [
        {
          "output_type": "stream",
          "name": "stdout",
          "text": [
            "Accuracy: 1.0\n"
          ]
        }
      ]
    },
    {
      "cell_type": "code",
      "source": [
        "clf.predict([[9.23146792e+01, 2.81780056e+01, 5.60000000e-01]])[0]"
      ],
      "metadata": {
        "colab": {
          "base_uri": "https://localhost:8080/",
          "height": 35
        },
        "id": "2aVRy3r_cUVZ",
        "outputId": "22288327-03d5-445c-931c-795e279bef94"
      },
      "execution_count": 19,
      "outputs": [
        {
          "output_type": "execute_result",
          "data": {
            "text/plain": [
              "'green'"
            ],
            "application/vnd.google.colaboratory.intrinsic+json": {
              "type": "string"
            }
          },
          "metadata": {},
          "execution_count": 19
        }
      ]
    },
    {
      "cell_type": "code",
      "source": [
        "single_tree = tree.DecisionTreeClassifier()\n",
        "single_tree.fit(X_train, y_train)\n",
        "\n",
        "single_y_pred = single_tree.predict(X_test)\n",
        "single_accuracy = accuracy_score(y_test, single_y_pred)\n",
        "print(f'Accuracy: {single_accuracy}')"
      ],
      "metadata": {
        "colab": {
          "base_uri": "https://localhost:8080/"
        },
        "id": "QwkYfqmwea4g",
        "outputId": "b68fb38d-f5d0-441c-e18d-6fe673b55832"
      },
      "execution_count": 20,
      "outputs": [
        {
          "output_type": "stream",
          "name": "stdout",
          "text": [
            "Accuracy: 1.0\n"
          ]
        }
      ]
    },
    {
      "cell_type": "code",
      "source": [
        "tree.plot_tree(single_tree)"
      ],
      "metadata": {
        "colab": {
          "base_uri": "https://localhost:8080/",
          "height": 460
        },
        "id": "cJZm-jP9emx_",
        "outputId": "8a377909-146e-4fbf-f1cb-b75f250694ed"
      },
      "execution_count": 21,
      "outputs": [
        {
          "output_type": "execute_result",
          "data": {
            "text/plain": [
              "[Text(0.5, 0.75, 'x[0] <= 210.524\\ngini = 0.499\\nsamples = 330\\nvalue = [159, 171]'),\n",
              " Text(0.25, 0.25, 'gini = 0.0\\nsamples = 159\\nvalue = [159, 0]'),\n",
              " Text(0.75, 0.25, 'gini = 0.0\\nsamples = 171\\nvalue = [0, 171]')]"
            ]
          },
          "metadata": {},
          "execution_count": 21
        },
        {
          "output_type": "display_data",
          "data": {
            "text/plain": [
              "<Figure size 640x480 with 1 Axes>"
            ],
            "image/png": "[encoded data removed]"
          },
          "metadata": {}
        }
      ]
    },
    {
      "cell_type": "code",
      "source": [],
      "metadata": {
        "id": "jZJq9DFOep-K"
      },
      "execution_count": 23,
      "outputs": []
    },
    {
      "cell_type": "code",
      "source": [
        "unknown_record = a121.load_record(\"pikes_roasted.h5\")\n",
        "unknown_data, _ = feature_extraction(process_h5(unknown_record))\n",
        "single_tree.predict(unknown_data)"
      ],
      "metadata": {
        "id": "CcmP6GYypIoo"
      },
      "execution_count": 31,
      "outputs": []
    },
    {
      "cell_type": "code",
      "source": [
        "def pred_from_file(filename):\n",
        "  record = a121.load_record(filename)\n",
        "  data, _ = feature_extraction(process_h5(record))\n",
        "  return single_tree.predict(data)"
      ],
      "metadata": {
        "id": "MkqXvGQ4pMvh"
      },
      "execution_count": 32,
      "outputs": []
    },
    {
      "cell_type": "code",
      "source": [
        "pred_from_file(\"unknown.h5\")"
      ],
      "metadata": {
        "colab": {
          "base_uri": "https://localhost:8080/"
        },
        "id": "aVr3PIdSpQ8K",
        "outputId": "5e2f5ad7-25ba-470f-84ac-e49f781be58f"
      },
      "execution_count": 33,
      "outputs": [
        {
          "output_type": "execute_result",
          "data": {
            "text/plain": [
              "array(['green', 'green', 'green', 'green', 'green', 'green', 'green',\n",
              "       'green', 'green', 'green', 'green', 'green', 'green', 'green',\n",
              "       'green', 'green', 'green', 'green', 'green', 'green', 'green',\n",
              "       'green', 'green', 'green', 'green', 'green', 'green', 'green',\n",
              "       'green', 'green', 'green', 'green', 'green', 'green', 'green',\n",
              "       'green', 'green', 'green', 'green'], dtype='<U7')"
            ]
          },
          "metadata": {},
          "execution_count": 33
        }
      ]
    },
    {
      "cell_type": "code",
      "source": [],
      "metadata": {
        "id": "xkhNLQsJqUoc"
      },
      "execution_count": null,
      "outputs": []
    }
  ]
}